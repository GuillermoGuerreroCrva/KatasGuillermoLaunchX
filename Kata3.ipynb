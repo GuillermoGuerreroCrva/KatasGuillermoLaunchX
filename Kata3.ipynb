{
 "cells": [
  {
   "cell_type": "markdown",
   "metadata": {},
   "source": [
    "## Problema 1"
   ]
  },
  {
   "cell_type": "code",
   "execution_count": null,
   "metadata": {},
   "outputs": [],
   "source": [
    "ast = 49\n",
    "if ast > 25:\n",
    "    print(\"Asteroide acercándose a la tierra a \"+str(ast)+\" Kms/s\")\n",
    "else:\n",
    "    print('No hay ningún problema actualmente!')"
   ]
  },
  {
   "cell_type": "markdown",
   "metadata": {},
   "source": [
    "## Problema 2"
   ]
  },
  {
   "cell_type": "code",
   "execution_count": null,
   "metadata": {},
   "outputs": [],
   "source": [
    "ast = 19\n",
    "if ast > 20:\n",
    "    print('¡Busca un asteroide en el cielo, producirá un rayo de luz que podrás ver desde la tierra!')\n",
    "elif ast == 20:\n",
    "    print('¡Busca un asteroide en el cielo, producirá un rayo de luz que podrás ver desde la tierra!')\n",
    "else:\n",
    "    print('No sea ha detectado nigún asteroide...')"
   ]
  },
  {
   "cell_type": "code",
   "execution_count": null,
   "metadata": {},
   "outputs": [],
   "source": [
    "ast = 19\n",
    "if ast >= 20:\n",
    "    print('¡Busca un asteroide en el cielo, producirá un rayo de luz que podrás ver desde la tierra!')\n",
    "else:\n",
    "    print('No se ha detectado ningúna actividad...')"
   ]
  },
  {
   "cell_type": "markdown",
   "metadata": {},
   "source": [
    "## Problema 3"
   ]
  },
  {
   "cell_type": "code",
   "execution_count": null,
   "metadata": {},
   "outputs": [],
   "source": [
    "ast_velocidad = 2\n",
    "ast_tamaño = 22\n",
    "if ast_tamaño > 25 and ast_tamaño < 1000:\n",
    "    print('¡El asteroide golpeará la tierra y causará daño por su tamaño!')\n",
    "elif ast_velocidad >= 20 and ast_velocidad < 25:\n",
    "    print('¡Buscan un asteroide en el cielo, producirá un rayo de luz que podrás ver desde la tierra!')\n",
    "elif ast_velocidad >=20 and ast_velocidad > 25:\n",
    "    print('¡Un rayo de luz que podrá ser visto desde la tierra!')\n",
    "    print(\"¡Advertencia¡ - Velocidad del asteroide: \"+str(ast_velocidad)+\" Kms/s\")\n",
    "else:\n",
    "    print('No se ha detectado nigúna actividad...')\n"
   ]
  },
  {
   "cell_type": "code",
   "execution_count": null,
   "metadata": {},
   "outputs": [],
   "source": [
    "ast_velocidad = 8\n",
    "ast_tamaño = 4\n",
    "if ast_velocidad > 25 and ast_tamaño > 25:\n",
    "    print('¡El asteroide golpeará la tierra y causará daño por su tamaño!')\n",
    "elif ast_velocidad >= 20:\n",
    "    print('¡Buscan un asteroide en el cielo, producirá un rayo de luz que podrás ver desde la tierra!')\n",
    "elif ast_tamaño < 25:\n",
    "    print('No se ha detectado nigúna actividad...')\n",
    "else:\n",
    "    print('No se ha detectado nigúna actividad...')"
   ]
  }
 ],
 "metadata": {
  "interpreter": {
   "hash": "51dd1c9ac711a936c0315c852665e2b6cde8d14a7c3b82400f3bf109d9e2eb2b"
  },
  "kernelspec": {
   "display_name": "Python 3.10.2 64-bit",
   "language": "python",
   "name": "python3"
  },
  "language_info": {
   "codemirror_mode": {
    "name": "ipython",
    "version": 3
   },
   "file_extension": ".py",
   "mimetype": "text/x-python",
   "name": "python",
   "nbconvert_exporter": "python",
   "pygments_lexer": "ipython3",
   "version": "3.10.2"
  },
  "orig_nbformat": 4
 },
 "nbformat": 4,
 "nbformat_minor": 2
}
